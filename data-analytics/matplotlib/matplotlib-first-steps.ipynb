{
 "cells": [
  {
   "cell_type": "code",
   "execution_count": null,
   "metadata": {},
   "outputs": [],
   "source": [
    "import numpy as np\n",
    "import pandas as pd\n",
    "import matplotlib.pyplot as plt\n",
    "import seaborn as sns"
   ]
  },
  {
   "cell_type": "code",
   "execution_count": null,
   "metadata": {},
   "outputs": [],
   "source": [
    "plt.plot(np.array([1, 2, 1]))"
   ]
  },
  {
   "cell_type": "code",
   "execution_count": null,
   "metadata": {},
   "outputs": [],
   "source": [
    "fig = plt.figure()\n",
    "plot1 = fig.add_subplot(2, 2, 1)\n",
    "plot2 = fig.add_subplot(2, 2, 2)\n",
    "plot3 = fig.add_subplot(2, 2, 3)\n",
    "plot4 = fig.add_subplot(2, 2, 4)"
   ]
  },
  {
   "cell_type": "code",
   "execution_count": null,
   "metadata": {},
   "outputs": [],
   "source": [
    "sec_per_mile = np.array([294, 309, 321, 312, 287, 271, 324])\n",
    "plt.plot(sec_per_mile, 'k--')"
   ]
  },
  {
   "cell_type": "code",
   "execution_count": null,
   "metadata": {},
   "outputs": [],
   "source": [
    "# Same plot as the one above, with the arguments passed more explicitly.\n",
    "plt.plot(sec_per_mile, color='k', linestyle='dashed')"
   ]
  },
  {
   "cell_type": "code",
   "execution_count": null,
   "metadata": {
    "scrolled": false
   },
   "outputs": [],
   "source": [
    "fig, axes = plt.subplots(2, 2, figsize=(10, 10))\n",
    "plt.subplots_adjust(wspace=0.3, hspace=0.3)\n",
    "\n",
    "years = np.array([2014, 2015, 2016, 2017, 2018, 2019])\n",
    "javaHistory = np.array([4282, 1585, 12962, 12103, 4819, 4715])\n",
    "\n",
    "# Titles and labels can be set individually...\n",
    "axes[0, 0].set_title('Java')\n",
    "axes[0, 0].set_xlabel('Year')\n",
    "axes[0, 0].set_ylabel('Lines Coded')\n",
    "axes[0, 0].bar(years, javaHistory, color='b', alpha=0.4)\n",
    "\n",
    "javaScriptHistory = np.array([0, 0, 2008, 6663, 16414, 13354])\n",
    "\n",
    "# ... or with a dictionary... \n",
    "javaScriptProps = {\n",
    "    'title': 'JavaScript',\n",
    "    'xlabel': 'Year',\n",
    "    'ylabel': 'Lines Coded'\n",
    "}\n",
    "axes[0, 1].set(**javaScriptProps)\n",
    "axes[0, 1].bar(years, javaScriptHistory, color='y', alpha=0.4)\n",
    "\n",
    "pythonHistory = np.array([0, 931, 1122, 1288, 1975, 20192])\n",
    "\n",
    "# ... or using both.\n",
    "props = {\n",
    "    'xlabel': 'Year',\n",
    "    'ylabel': 'Lines Coded'\n",
    "}\n",
    "axes[1, 0].set_title('Python')\n",
    "axes[1, 0].set(**props)\n",
    "axes[1, 0].bar(years, pythonHistory, color='#4180b1', alpha=0.4)\n",
    "\n",
    "swiftHistory = np.array([0, 0, 0, 10726, 698, 2208])\n",
    "axes[1, 1].set_title('Swift')\n",
    "axes[1, 1].set(**props)\n",
    "axes[1, 1].bar(years, swiftHistory, color='r', alpha=0.4)"
   ]
  },
  {
   "cell_type": "code",
   "execution_count": null,
   "metadata": {},
   "outputs": [],
   "source": [
    "# Plotting data using a pandas DataFrame.  Behind the scenes, matplotlib is used.\n",
    "# Spikes in the chart show that runs increase in length on the weekend.\n",
    "feb_runs = [\n",
    "    11.56, 12, \n",
    "    2.34, 3.63, 2.85, 3.06, 3.92, 7.87, 12.5, \n",
    "    2.81, 3.8, 2.65, 7.5, 2.63, 14, 13.21, \n",
    "    1.28, 1.88, 2.64, 5.20, 3.76, 7.87, 12.59, \n",
    "    2.81, 2.81, 3.45\n",
    "]\n",
    "df = pd.DataFrame({'runs': feb_runs}, index=np.arange(1, 27))\n",
    "df.plot()"
   ]
  },
  {
   "cell_type": "code",
   "execution_count": null,
   "metadata": {},
   "outputs": [],
   "source": [
    "data_xctf = {\n",
    "    '8K': [1460.80, 1473.50, 1498.80, np.nan, 1584.20],\n",
    "    '6K': [1138.80, 1150.20, 1165.80, 1254.00, 1220.50],\n",
    "    '5K': [932.00, 939.00, 959.00, 1051.60, 998.40]\n",
    "}\n",
    "run_sec_dataframe = pd.DataFrame(data_xctf, index=['Thomas Caulfield', 'Joseph Smith', 'Ben Fishbein', 'Lisa Grohn', 'Andy Jarombek'])\n",
    "run_sec_dataframe = run_sec_dataframe.reset_index()\n",
    "run_sec_dataframe = pd.melt(run_sec_dataframe, ['index'])\n",
    "\n",
    "colors = {\n",
    "    'Thomas Caulfield': '#4180b1', \n",
    "    'Joseph Smith': '#4180b1', \n",
    "    'Ben Fishbein': '#4180b1', \n",
    "    'Lisa Grohn': 'magenta', \n",
    "    'Andy Jarombek': '#4180b1'\n",
    "}\n",
    "run_sec_dataframe.plot.scatter(x='index', y='value', c=run_sec_dataframe['index'].apply(lambda x: colors[x]))"
   ]
  },
  {
   "cell_type": "code",
   "execution_count": null,
   "metadata": {},
   "outputs": [],
   "source": [
    "df.plot.bar(color='green', alpha=0.5)"
   ]
  },
  {
   "cell_type": "code",
   "execution_count": null,
   "metadata": {},
   "outputs": [],
   "source": [
    "# Create a horizontal bar chart, with the first of the month coming at the top.\n",
    "# CSS built-in colors can be used.\n",
    "df[::-1].plot.barh(color='aquamarine', alpha=0.5, figsize=(10, 10))"
   ]
  },
  {
   "cell_type": "code",
   "execution_count": null,
   "metadata": {},
   "outputs": [],
   "source": [
    "# Reverse the dataframe\n",
    "df[::-1].head()"
   ]
  },
  {
   "cell_type": "code",
   "execution_count": null,
   "metadata": {},
   "outputs": [],
   "source": [
    "df.reset_index()"
   ]
  },
  {
   "cell_type": "code",
   "execution_count": null,
   "metadata": {},
   "outputs": [],
   "source": [
    "# Seaborn adds some default styles to matplotlib charts.\n",
    "fig, ax = plt.subplots(figsize=(10, 10))\n",
    "sns.barplot(y='index', x='runs', data=df.reset_index(), orient='h', ax=ax)"
   ]
  },
  {
   "cell_type": "code",
   "execution_count": null,
   "metadata": {},
   "outputs": [],
   "source": [
    "run_sec_dataframe"
   ]
  },
  {
   "cell_type": "code",
   "execution_count": null,
   "metadata": {},
   "outputs": [],
   "source": [
    "# Seaborn also provides additional plots, such as a facet grid plot\n",
    "sns.catplot(y='variable', x='value', data=run_sec_dataframe, kind='box')"
   ]
  },
  {
   "cell_type": "code",
   "execution_count": null,
   "metadata": {},
   "outputs": [],
   "source": []
  }
 ],
 "metadata": {
  "kernelspec": {
   "display_name": "Python 3",
   "language": "python",
   "name": "python3"
  },
  "language_info": {
   "codemirror_mode": {
    "name": "ipython",
    "version": 3
   },
   "file_extension": ".py",
   "mimetype": "text/x-python",
   "name": "python",
   "nbconvert_exporter": "python",
   "pygments_lexer": "ipython3",
   "version": "3.8.0"
  }
 },
 "nbformat": 4,
 "nbformat_minor": 4
}
