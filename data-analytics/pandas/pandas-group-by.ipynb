{
 "cells": [
  {
   "cell_type": "code",
   "execution_count": null,
   "metadata": {},
   "outputs": [],
   "source": [
    "import matplotlib.pyplot as plt\n",
    "import numpy as np\n",
    "import pandas as pd"
   ]
  },
  {
   "cell_type": "code",
   "execution_count": null,
   "metadata": {},
   "outputs": [],
   "source": [
    "lines_coded = pd.DataFrame({\n",
    "        '2014': [0, 4282, 0, 0, 0, 0, 0, 0, 0, 0],\n",
    "        '2015': [0, 1585, 931, 0, 0, 0, 0, 0, 325, 0],\n",
    "        '2016': [2008, 12962, 1122, 1413, 0, 5433, 0, 0, 942, 179],\n",
    "        '2017': [6663, 12113, 1288, 2289, 10726, 3670, 163, 0, 812, 113],\n",
    "        '2018': [16414, 4769, 1975, 10833, 698, 356, 4198, 3801, 1392, 2164],\n",
    "        '2019': [13354, 4439, 20192, 4855, 2208, 357, 4468, 4089, 2622, 2324],\n",
    "        '2020': [5022, 1664, 3666, 36, 0, 0, 727, 1332, 156, 652]\n",
    "    },\n",
    "    index=['JavaScript', 'Java', 'Python', 'HTML', 'Swift', 'PHP', 'Sass', 'HCL', 'SQL', 'Groovy']\n",
    ")\n",
    "lines_coded"
   ]
  },
  {
   "cell_type": "code",
   "execution_count": null,
   "metadata": {},
   "outputs": [],
   "source": [
    "lines_coded_v2 = lines_coded.reset_index()\n",
    "lines_coded_v2"
   ]
  },
  {
   "cell_type": "code",
   "execution_count": null,
   "metadata": {},
   "outputs": [],
   "source": [
    "melted = pd.melt(lines_coded_v2, ['index'])\n",
    "melted"
   ]
  },
  {
   "cell_type": "code",
   "execution_count": null,
   "metadata": {},
   "outputs": [],
   "source": [
    "grouping = melted.groupby('index')\n",
    "grouping.sum()"
   ]
  },
  {
   "cell_type": "code",
   "execution_count": null,
   "metadata": {},
   "outputs": [],
   "source": [
    "grouping.mean()"
   ]
  },
  {
   "cell_type": "code",
   "execution_count": null,
   "metadata": {},
   "outputs": [],
   "source": [
    "grouping.mean()"
   ]
  },
  {
   "cell_type": "code",
   "execution_count": null,
   "metadata": {},
   "outputs": [],
   "source": [
    "for name, group in grouping:\n",
    "    print(name)\n",
    "    print(group)"
   ]
  },
  {
   "cell_type": "code",
   "execution_count": null,
   "metadata": {},
   "outputs": [],
   "source": [
    "lines_coded_nan = lines_coded[lines_coded.apply(lambda x: x > 0)]\n",
    "lines_coded_nan"
   ]
  },
  {
   "cell_type": "code",
   "execution_count": null,
   "metadata": {},
   "outputs": [],
   "source": [
    "lines_coded_nan_melted = pd.melt(lines_coded_nan.reset_index(), ['index'])\n",
    "lines_coded_nan_melted"
   ]
  },
  {
   "cell_type": "code",
   "execution_count": null,
   "metadata": {},
   "outputs": [],
   "source": [
    "grouping_nan = lines_coded_nan_melted.groupby('index')\n",
    "years_coded = grouping_nan.count()\n",
    "years_coded"
   ]
  },
  {
   "cell_type": "code",
   "execution_count": null,
   "metadata": {},
   "outputs": [],
   "source": [
    "years_coded.index"
   ]
  },
  {
   "cell_type": "code",
   "execution_count": null,
   "metadata": {},
   "outputs": [],
   "source": [
    "grouping.count()"
   ]
  },
  {
   "cell_type": "code",
   "execution_count": null,
   "metadata": {},
   "outputs": [],
   "source": [
    "# The results of a groupby operation can be indexed.\n",
    "grouping_nan_value = lines_coded_nan_melted.groupby('index')['value']\n",
    "grouping_nan_value.count()"
   ]
  },
  {
   "cell_type": "code",
   "execution_count": null,
   "metadata": {},
   "outputs": [],
   "source": [
    "# The above groupby indexing operation is syntactic sugar for the following groupby statement\n",
    "grouping_nan_value = lines_coded_nan_melted['value'].groupby(lines_coded_nan_melted['index'])\n",
    "grouping_nan_value.count()"
   ]
  },
  {
   "cell_type": "code",
   "execution_count": null,
   "metadata": {},
   "outputs": [],
   "source": [
    "grouping.agg('max')['value']"
   ]
  },
  {
   "cell_type": "code",
   "execution_count": null,
   "metadata": {},
   "outputs": [],
   "source": [
    "multiple_aggregations = grouping.agg(['max', 'min', 'mean'])['value'].reset_index()\n",
    "multiple_aggregations"
   ]
  },
  {
   "cell_type": "code",
   "execution_count": null,
   "metadata": {},
   "outputs": [],
   "source": [
    "multiple_aggregations['mean'] = multiple_aggregations['mean'].apply(lambda x: int(x))\n",
    "multiple_aggregations"
   ]
  },
  {
   "cell_type": "code",
   "execution_count": null,
   "metadata": {},
   "outputs": [],
   "source": [
    "def most(df: pd.DataFrame, column: str = 'value'):\n",
    "    return df.sort_values(by=column)[-1:]\n",
    "\n",
    "def least(df: pd.DataFrame, column: str = 'value'):\n",
    "    return df.sort_values(by=column)[:1]"
   ]
  },
  {
   "cell_type": "code",
   "execution_count": null,
   "metadata": {},
   "outputs": [],
   "source": [
    "most(melted, 'value')"
   ]
  },
  {
   "cell_type": "code",
   "execution_count": null,
   "metadata": {},
   "outputs": [],
   "source": [
    "least(melted, 'value')"
   ]
  },
  {
   "cell_type": "code",
   "execution_count": null,
   "metadata": {},
   "outputs": [],
   "source": [
    "melted.groupby('index').apply(most)"
   ]
  },
  {
   "cell_type": "code",
   "execution_count": null,
   "metadata": {},
   "outputs": [],
   "source": [
    "melted.groupby('index').apply(least)"
   ]
  },
  {
   "cell_type": "code",
   "execution_count": null,
   "metadata": {},
   "outputs": [],
   "source": [
    "melted.groupby('index', group_keys=False).apply(most)"
   ]
  }
 ],
 "metadata": {
  "kernelspec": {
   "display_name": "Python 3",
   "language": "python",
   "name": "python3"
  },
  "language_info": {
   "codemirror_mode": {
    "name": "ipython",
    "version": 3
   },
   "file_extension": ".py",
   "mimetype": "text/x-python",
   "name": "python",
   "nbconvert_exporter": "python",
   "pygments_lexer": "ipython3",
   "version": "3.8.0"
  }
 },
 "nbformat": 4,
 "nbformat_minor": 4
}
