{
 "cells": [
  {
   "cell_type": "code",
   "execution_count": null,
   "metadata": {},
   "outputs": [],
   "source": [
    "import json\n",
    "import numpy as np\n",
    "import pandas as pd"
   ]
  },
  {
   "cell_type": "code",
   "execution_count": null,
   "metadata": {},
   "outputs": [],
   "source": [
    "json_data = json.dumps({1: {'a': 1, 'b': 2}, 2: {'a': 3, 'b': 4}})"
   ]
  },
  {
   "cell_type": "code",
   "execution_count": null,
   "metadata": {},
   "outputs": [],
   "source": [
    "df = pd.read_json(json_data, orient='index')\n",
    "df"
   ]
  },
  {
   "cell_type": "code",
   "execution_count": null,
   "metadata": {},
   "outputs": [],
   "source": [
    "df.to_json()"
   ]
  },
  {
   "cell_type": "code",
   "execution_count": null,
   "metadata": {},
   "outputs": [],
   "source": [
    "feb_runs = [\n",
    "    11.56, 12, \n",
    "    2.34, 3.63, 2.85, 3.06, 3.92, 7.87, 12.5, \n",
    "    2.81, 3.8, 2.65, 7.5, 2.63, 14, 13.21, \n",
    "    1.28, 1.88, 2.64, 5.20, 3.76, 7.87, 12.59, \n",
    "    2.81, 2.81, 3.45\n",
    "]\n",
    "buckets = [0, 3, 8, 15]\n",
    "cuts = pd.cut(feb_runs, buckets)\n",
    "cuts"
   ]
  },
  {
   "cell_type": "code",
   "execution_count": null,
   "metadata": {},
   "outputs": [],
   "source": [
    "cuts.codes"
   ]
  },
  {
   "cell_type": "code",
   "execution_count": null,
   "metadata": {},
   "outputs": [],
   "source": [
    "cuts.categories"
   ]
  },
  {
   "cell_type": "code",
   "execution_count": null,
   "metadata": {},
   "outputs": [],
   "source": [
    "pd.value_counts(cuts)"
   ]
  },
  {
   "cell_type": "code",
   "execution_count": null,
   "metadata": {},
   "outputs": [],
   "source": [
    "bucket_names = [\"Slept too Long Run\", \"Regular Run\", \"Log Run/Workout\"]\n",
    "cuts = pd.cut(feb_runs, buckets, labels=bucket_names)\n",
    "cuts"
   ]
  },
  {
   "cell_type": "code",
   "execution_count": null,
   "metadata": {},
   "outputs": [],
   "source": [
    "pd.value_counts(cuts)"
   ]
  },
  {
   "cell_type": "code",
   "execution_count": null,
   "metadata": {},
   "outputs": [],
   "source": [
    "cuts = pd.qcut(feb_runs, 4)\n",
    "cuts"
   ]
  },
  {
   "cell_type": "code",
   "execution_count": null,
   "metadata": {},
   "outputs": [],
   "source": [
    "pd.value_counts(cuts)"
   ]
  },
  {
   "cell_type": "code",
   "execution_count": null,
   "metadata": {},
   "outputs": [],
   "source": [
    "race_locations = pd.DataFrame({ \n",
    "    'location': [\n",
    "        \"Ocean Breeze Athletic Complex - New York, NY\", \n",
    "        \"The Armory - New York, NY\", \n",
    "        \"Tod's Point - Old Greenwich, CT\",\n",
    "        \"Franklin D. Roosevelt State Park - Yorktown Heights, NY\"\n",
    "    ],\n",
    "    'race_count': [3, 2, 1, 2]\n",
    "})\n",
    "race_locations"
   ]
  },
  {
   "cell_type": "code",
   "execution_count": null,
   "metadata": {},
   "outputs": [],
   "source": [
    "locations: pd.Series = race_locations.T.loc['location']\n",
    "locations"
   ]
  },
  {
   "cell_type": "code",
   "execution_count": null,
   "metadata": {},
   "outputs": [],
   "source": [
    "locations.str.contains('NY')"
   ]
  },
  {
   "cell_type": "code",
   "execution_count": null,
   "metadata": {},
   "outputs": [],
   "source": [
    "pattern = r\"([A-Za-z'\\.\\s]+) - ([A-Za-z'\\s]+), ([A-Z]{2})\"\n",
    "locations.str.findall(pattern)"
   ]
  },
  {
   "cell_type": "code",
   "execution_count": null,
   "metadata": {},
   "outputs": [],
   "source": [
    "matches = locations.str.findall(pattern).str[0]\n",
    "matches"
   ]
  },
  {
   "cell_type": "code",
   "execution_count": null,
   "metadata": {},
   "outputs": [],
   "source": [
    "states = matches.str.get(2)\n",
    "states"
   ]
  },
  {
   "cell_type": "code",
   "execution_count": null,
   "metadata": {},
   "outputs": [],
   "source": [
    "# Flatten data by using hierarchical indexing\n",
    "exercises = pd.Series([2.1, 1, 0.5, 2, 2.15], index=[['run', 'run', 'run', 'walk', 'run'], [1, 2, 3, 4, 5]])\n",
    "exercises"
   ]
  },
  {
   "cell_type": "code",
   "execution_count": null,
   "metadata": {},
   "outputs": [],
   "source": [
    "exercises.unstack()"
   ]
  },
  {
   "cell_type": "code",
   "execution_count": null,
   "metadata": {},
   "outputs": [],
   "source": [
    "exercises.unstack().stack()"
   ]
  },
  {
   "cell_type": "code",
   "execution_count": null,
   "metadata": {},
   "outputs": [],
   "source": [
    "exercises.swaplevel(0, 1)"
   ]
  },
  {
   "cell_type": "code",
   "execution_count": null,
   "metadata": {},
   "outputs": [],
   "source": [
    "exercises.sort_index(level=0)"
   ]
  },
  {
   "cell_type": "code",
   "execution_count": null,
   "metadata": {},
   "outputs": [],
   "source": [
    "exercises.sum(level=0)"
   ]
  },
  {
   "cell_type": "code",
   "execution_count": null,
   "metadata": {},
   "outputs": [],
   "source": [
    "race_locations.set_index(['location'])"
   ]
  },
  {
   "cell_type": "code",
   "execution_count": null,
   "metadata": {},
   "outputs": [],
   "source": [
    "users = pd.DataFrame({\n",
    "    'username': ['andy', 'joe', 'tom', 'fish'],\n",
    "    'first': ['Andrew', 'Joseph', 'Thomas', 'Benjamin'],\n",
    "    'last': ['Jarombek', 'Smith', 'Caulfield', 'Fishbein']\n",
    "})\n",
    "users"
   ]
  },
  {
   "cell_type": "code",
   "execution_count": null,
   "metadata": {},
   "outputs": [],
   "source": [
    "runs = pd.DataFrame({\n",
    "    'username': ['andy', 'joe', 'andy', 'fish'],\n",
    "    'date': ['2020-02-28', '2020-02-29', '2020-03-01', '2020-02-28'],\n",
    "    'distance': [2.1, 8, 13, 5],\n",
    "    'minutes': [16, 54, 92, 30],\n",
    "    'seconds': [5, 51, 0, 10]\n",
    "})\n",
    "runs"
   ]
  },
  {
   "cell_type": "code",
   "execution_count": null,
   "metadata": {},
   "outputs": [],
   "source": [
    "# Implicitly merge on the 'username' column in users and runs.  This is similar to a SQL INNER JOIN.\n",
    "pd.merge(users, runs)"
   ]
  },
  {
   "cell_type": "code",
   "execution_count": null,
   "metadata": {},
   "outputs": [],
   "source": [
    "pd.merge(users, runs, how='inner')"
   ]
  },
  {
   "cell_type": "code",
   "execution_count": null,
   "metadata": {},
   "outputs": [],
   "source": [
    "pd.merge(users, runs, how='outer')"
   ]
  },
  {
   "cell_type": "code",
   "execution_count": null,
   "metadata": {},
   "outputs": [],
   "source": [
    "pd.merge(users, runs, left_on='username', right_on='username')"
   ]
  },
  {
   "cell_type": "code",
   "execution_count": null,
   "metadata": {},
   "outputs": [],
   "source": [
    "# Some ski trails I went on.\n",
    "morning = pd.Series(['Left Bank', 'West Way', 'Winding Brook', 'Panorama', 'Wild Turkey', 'Cutter'])\n",
    "afternoon = pd.Series(['Wild Turkey', 'Jericho', 'Bear Crossing', 'Upper Whitetail', 'Lower Whitetail'])\n",
    "\n",
    "pd.concat([morning, afternoon])"
   ]
  },
  {
   "cell_type": "code",
   "execution_count": null,
   "metadata": {},
   "outputs": [],
   "source": [
    "# Passing axis=1 as a parameter concatenates along the x-axis (concats columns), resulting in a data frame.\n",
    "pd.concat([morning, afternoon], axis=1)"
   ]
  },
  {
   "cell_type": "code",
   "execution_count": null,
   "metadata": {},
   "outputs": [],
   "source": [
    "# By default concat with axis=1 performs an outer join on the indexes of each original Series.\n",
    "pd.concat([morning, afternoon], axis=1, join='outer')"
   ]
  },
  {
   "cell_type": "code",
   "execution_count": null,
   "metadata": {},
   "outputs": [],
   "source": [
    "# This behavior can be altered by passing join='inner' as an argument.\n",
    "pd.concat([morning, afternoon], axis=1, join='inner')"
   ]
  },
  {
   "cell_type": "code",
   "execution_count": null,
   "metadata": {},
   "outputs": [],
   "source": [
    "pd.concat([morning, afternoon], keys=['morning', 'afternoon'])"
   ]
  },
  {
   "cell_type": "code",
   "execution_count": null,
   "metadata": {},
   "outputs": [],
   "source": [
    "morning_frame = morning.to_frame()\n",
    "morning_frame['grade'] = ['green', 'blue', 'green', 'blue', 'black diamond', 'black diamond']\n",
    "morning_frame = morning_frame.set_index([0])\n",
    "morning_frame"
   ]
  },
  {
   "cell_type": "code",
   "execution_count": null,
   "metadata": {},
   "outputs": [],
   "source": [
    "afternoon_frame = afternoon.to_frame()\n",
    "afternoon_frame['grade'] = ['black diamond', 'double black diamond', 'blue black', 'black diamond', 'black diamond']\n",
    "afternoon_frame = afternoon_frame.set_index([0])\n",
    "afternoon_frame"
   ]
  },
  {
   "cell_type": "code",
   "execution_count": null,
   "metadata": {},
   "outputs": [],
   "source": [
    "all_trails = morning_frame.combine_first(afternoon_frame)\n",
    "all_trails"
   ]
  },
  {
   "cell_type": "code",
   "execution_count": null,
   "metadata": {},
   "outputs": [],
   "source": [
    "all_trails.reset_index()"
   ]
  },
  {
   "cell_type": "code",
   "execution_count": null,
   "metadata": {},
   "outputs": [],
   "source": [
    "miles_races = pd.DataFrame({\n",
    "    'race': ['NYRR Night at the Races #1', 'Ocean Breeze Miles Mania #4'],\n",
    "    '209m': ['39.447 (39.447)', '37.615 (37.615)'],\n",
    "    '409m': ['1:16.524 (37.077)', '1:14.048 (36.433)'],\n",
    "    '609m': ['1:53.254 (36.730)', '1:50.689 (36.641)'],\n",
    "    '809m': ['2:30.180 (36.926)', '2:26.830 (36.141)'],\n",
    "    '1009m': ['3:06.899 (36.720)', '3:02.024 (35.194)'],\n",
    "    '1209m': ['3:43.565 (36.667)', '3:37.905 (35.881)'],\n",
    "    '1409m': ['4:19.249 (35.684)', '4:13.632 (35.727)'],\n",
    "    '1609m': ['4:54.247 (34.999)', '4:47.750 (34.118)']\n",
    "})\n",
    "miles_races"
   ]
  },
  {
   "cell_type": "code",
   "execution_count": null,
   "metadata": {},
   "outputs": [],
   "source": [
    "pd.melt(miles_races, ['race'])"
   ]
  },
  {
   "cell_type": "code",
   "execution_count": null,
   "metadata": {},
   "outputs": [],
   "source": [
    "pd.value_counts(miles_races['race'])"
   ]
  },
  {
   "cell_type": "code",
   "execution_count": null,
   "metadata": {},
   "outputs": [],
   "source": [
    "pd.value_counts(pd.melt(miles_races, ['race'])['race'])"
   ]
  },
  {
   "cell_type": "code",
   "execution_count": null,
   "metadata": {},
   "outputs": [],
   "source": []
  }
 ],
 "metadata": {
  "kernelspec": {
   "display_name": "Python 3",
   "language": "python",
   "name": "python3"
  },
  "language_info": {
   "codemirror_mode": {
    "name": "ipython",
    "version": 3
   },
   "file_extension": ".py",
   "mimetype": "text/x-python",
   "name": "python",
   "nbconvert_exporter": "python",
   "pygments_lexer": "ipython3",
   "version": "3.8.0"
  }
 },
 "nbformat": 4,
 "nbformat_minor": 4
}
